{
 "cells": [
  {
   "cell_type": "markdown",
   "id": "c0418c8a",
   "metadata": {},
   "source": [
    "![](https://www.python.org/static/community_logos/python-logo.png)"
   ]
  },
  {
   "cell_type": "markdown",
   "id": "37623d64",
   "metadata": {},
   "source": [
    "# 課程介紹\n",
    "### 今天會學到什麼?\n",
    "- 如何用turtle繪圖\n",
    "- <font color='#336699'>**迴圈**</font>\n",
    "- <font color='#336699'>**函式**</font>\n",
    "- <font color='#336699'>**變數**</font>\n",
    "- <font color='#336699'>**流程控制**</font>"
   ]
  },
  {
   "cell_type": "markdown",
   "id": "a4889a62",
   "metadata": {
    "tags": []
   },
   "source": [
    "### turtle基本操作\n",
    "- 說明:help(Turtle)\n",
    "- 前進/後退\n",
    "- 左轉/右轉\n",
    "- 拿起筆(不畫)/放下筆(畫)\n",
    "- 畫筆顏色\n",
    "- 畫圓\n",
    "- 回家\n",
    "- 速度"
   ]
  },
  {
   "cell_type": "code",
   "execution_count": 3,
   "id": "a0d896bd",
   "metadata": {},
   "outputs": [
    {
     "data": {
      "application/javascript": [
       "IPython.notebook.set_autosave_interval(120000)"
      ]
     },
     "metadata": {},
     "output_type": "display_data"
    },
    {
     "name": "stdout",
     "output_type": "stream",
     "text": [
      "Autosaving every 120 seconds\n"
     ]
    }
   ],
   "source": [
    "# 匯入模組\n",
    "from mobilechelonian import Turtle\n",
    "%autosave 120"
   ]
  },
  {
   "cell_type": "code",
   "execution_count": 21,
   "id": "207a77f2",
   "metadata": {
    "scrolled": false
   },
   "outputs": [
    {
     "data": {
      "application/vnd.jupyter.widget-view+json": {
       "model_id": "",
       "version_major": 2,
       "version_minor": 0
      },
      "text/plain": [
       "Turtle()"
      ]
     },
     "metadata": {},
     "output_type": "display_data"
    }
   ],
   "source": [
    "t = Turtle()\n",
    "t.forward(100)\n",
    "t.pencolor(\"#ffcccc\")\n",
    "t.right(90)\n",
    "t.penup()\n",
    "t.backward(100)\n",
    "# t.close()"
   ]
  },
  {
   "cell_type": "markdown",
   "id": "1cfb3b80",
   "metadata": {},
   "source": [
    "### for迴圈\n",
    "> - ***重複執行特定程式碼***\n",
    "### 函式\n",
    "> - ***將特定程式碼包裝成自定義函示，可在需重複使用時直接呼叫***\n",
    "> - ***可給定預設值***"
   ]
  },
  {
   "cell_type": "markdown",
   "id": "c4aabcfc",
   "metadata": {},
   "source": [
    "## 實例講解:畫出三角形\n",
    "1. 任意方法\n",
    "2. 用迴圈<font color='red'>**(從0開始計數，但不含最後數字)**</font>\n",
    "3. 包裝成函示"
   ]
  },
  {
   "cell_type": "code",
   "execution_count": 40,
   "id": "cd57e1d8",
   "metadata": {
    "scrolled": true
   },
   "outputs": [
    {
     "data": {
      "application/vnd.jupyter.widget-view+json": {
       "model_id": "303d7c5dc55f4ea699a69789fc5902ee",
       "version_major": 2,
       "version_minor": 0
      },
      "text/plain": [
       "Turtle()"
      ]
     },
     "metadata": {},
     "output_type": "display_data"
    }
   ],
   "source": [
    "#------法1------\n",
    "t = Turtle()\n",
    "t.speed(10)\n",
    "t.forward(100)\n",
    "t.right(120)\n",
    "t.forward(100)\n",
    "t.right(120)\n",
    "t.forward(100)\n",
    "t.right(120)\n",
    "#------法2------\n",
    "t.pencolor(\"pink\")\n",
    "for i in range(2+1):\n",
    "    #0 1 2 \n",
    "    t.forward(100)\n",
    "    t.right(120)\n",
    "#------法3------\n",
    "def triangle():\n",
    "    t.pencolor(\"red\")\n",
    "    for i in range(2+1):\n",
    "        #0 1 2 \n",
    "        t.forward(100)\n",
    "        t.right(120)\n",
    "triangle()\n",
    "# t.close()"
   ]
  },
  {
   "cell_type": "markdown",
   "id": "c611c1dd",
   "metadata": {},
   "source": [
    "## 練習:畫出正方形\n",
    "模仿上方的範例畫出正方形<br>\n",
    "練習:\n",
    "- tutrle繪圖\n",
    "- 迴圈\n",
    "- 函式"
   ]
  },
  {
   "cell_type": "code",
   "execution_count": 6,
   "id": "0ce41f3b",
   "metadata": {},
   "outputs": [
    {
     "data": {
      "application/vnd.jupyter.widget-view+json": {
       "model_id": "",
       "version_major": 2,
       "version_minor": 0
      },
      "text/plain": [
       "Turtle()"
      ]
     },
     "metadata": {},
     "output_type": "display_data"
    }
   ],
   "source": [
    "#------法1------\n",
    "t = Turtle()\n",
    "t.speed(10)\n",
    "t.forward(100)\n",
    "t.right(90)\n",
    "t.forward(100)\n",
    "t.right(90)\n",
    "t.forward(100)\n",
    "t.right(90)\n",
    "t.forward(100)\n",
    "t.right(90)\n",
    "#------法2------\n",
    "t.pencolor(\"pink\")\n",
    "for i in range(3+1):\n",
    "    #0 1 2 3\n",
    "    t.forward(100)\n",
    "    t.right(90)\n",
    "\n",
    "\n",
    "#------法3------\n",
    "def square():\n",
    "    t.pencolor(\"red\")\n",
    "    for i in range(3+1):\n",
    "        #0 1 2 3\n",
    "        t.forward(100)\n",
    "        t.right(90)\n",
    "square()\n",
    "# t.close()"
   ]
  },
  {
   "cell_type": "markdown",
   "id": "b0f6743f",
   "metadata": {},
   "source": [
    "### 變數\n",
    "> - ***如同數學上的$x$變數，不為定值***\n",
    "> - ***可為多種資料型態***\n",
    "### 流程控制\n",
    "> - ***將特定條件時執行***\n",
    "> - ***可給多種條件***"
   ]
  },
  {
   "cell_type": "markdown",
   "id": "56a6d194",
   "metadata": {},
   "source": [
    "## 實例講解1:畫出長方形\n",
    "1. 長與長、寬與寬相同，但長寬不同\n",
    "2. 長與寬不同顏色"
   ]
  },
  {
   "cell_type": "code",
   "execution_count": 43,
   "id": "afb2fa40",
   "metadata": {},
   "outputs": [
    {
     "data": {
      "application/vnd.jupyter.widget-view+json": {
       "model_id": "4485c5a3dd86449f8277327d6fc36358",
       "version_major": 2,
       "version_minor": 0
      },
      "text/plain": [
       "Turtle()"
      ]
     },
     "metadata": {},
     "output_type": "display_data"
    }
   ],
   "source": [
    "t = Turtle()\n",
    "t.speed(10)\n",
    "col = [\"red\", \"yellow\"]\n",
    "for i in range(3+1):\n",
    "    if(i%2 == 0):\n",
    "        t.pencolor(col[0])\n",
    "        t.forward(100)\n",
    "    else:\n",
    "        t.pencolor(col[1])\n",
    "        t.forward(50)\n",
    "    t.right(90)\n",
    "# t.close()"
   ]
  },
  {
   "cell_type": "markdown",
   "id": "1f09a13c",
   "metadata": {},
   "source": [
    "## 實例講解2:改良square函式\n",
    "1. 增加變數以增加使用彈性\n",
    "2. 變數包含:\n",
    "    - 顏色\n",
    "    - 長度"
   ]
  },
  {
   "cell_type": "code",
   "execution_count": 11,
   "id": "5aa57799",
   "metadata": {},
   "outputs": [
    {
     "data": {
      "application/vnd.jupyter.widget-view+json": {
       "model_id": "",
       "version_major": 2,
       "version_minor": 0
      },
      "text/plain": [
       "Turtle()"
      ]
     },
     "metadata": {},
     "output_type": "display_data"
    }
   ],
   "source": [
    "t = Turtle()\n",
    "t.speed(10)\n",
    "def square(color=\"red\", length=100):\n",
    "    \"\"\"\n",
    "    畫出正方形\n",
    "    參數:\n",
    "        color:顏色\n",
    "        length:邊長\n",
    "    \"\"\"\n",
    "    t.pencolor(color)\n",
    "    for i in range(3+1):\n",
    "        #0 1 2 3\n",
    "        t.forward(lent)\n",
    "        t.right(90)\n",
    "square()\n",
    "square(color=\"green\", length=90)\n",
    "# t.close()"
   ]
  },
  {
   "cell_type": "markdown",
   "id": "031eeec2",
   "metadata": {},
   "source": [
    "## 練習:畫出房子\n",
    "房子:正方形+三角形"
   ]
  },
  {
   "cell_type": "code",
   "execution_count": 29,
   "id": "f298fb48",
   "metadata": {},
   "outputs": [
    {
     "data": {
      "application/vnd.jupyter.widget-view+json": {
       "model_id": "",
       "version_major": 2,
       "version_minor": 0
      },
      "text/plain": [
       "Turtle()"
      ]
     },
     "metadata": {},
     "output_type": "display_data"
    }
   ],
   "source": [
    "t = Turtle()\n",
    "t.speed(10)\n",
    "square(\"green\", 100)\n",
    "for i in range(2+1):\n",
    "    if(i==0):\n",
    "        t.left(60)\n",
    "    else:\n",
    "        t.right(120)\n",
    "    t.forward(100)\n",
    "# t.close()"
   ]
  },
  {
   "cell_type": "markdown",
   "id": "befa191f",
   "metadata": {},
   "source": [
    "## 進階練習1:畫出正多邊形\n",
    "1. 函式\n",
    "    - edge:邊數\n",
    "    - length:邊長\n",
    "2. 流程控制\n",
    "    - **edge需大於2**\n",
    "    - 如果沒有 return \"edge需大於2\""
   ]
  },
  {
   "cell_type": "code",
   "execution_count": 13,
   "id": "87d15cc2",
   "metadata": {},
   "outputs": [],
   "source": [
    "def polygon(edge=3, length=100):\n",
    "    if(edge>2):\n",
    "        for i in range(edge):\n",
    "            t.forward(length)\n",
    "            t.right(360/edge)\n",
    "    else:\n",
    "        return \"edge需大於2\""
   ]
  },
  {
   "cell_type": "markdown",
   "id": "fe85b3b6",
   "metadata": {},
   "source": [
    "## 進階練習2:畫出以下圖形\n",
    "1. 此圖由12個多邊形組成\n",
    "2. 每畫一次旋轉30度\n",
    "3. 可嘗試不同顏色、邊數及長度看看效果<br>\n",
    "<img src=\"imgs/flower.png\" style= float:left width=200 length=200>"
   ]
  },
  {
   "cell_type": "code",
   "execution_count": 20,
   "id": "208b8f18",
   "metadata": {},
   "outputs": [
    {
     "data": {
      "application/vnd.jupyter.widget-view+json": {
       "model_id": "",
       "version_major": 2,
       "version_minor": 0
      },
      "text/plain": [
       "Turtle()"
      ]
     },
     "metadata": {},
     "output_type": "display_data"
    }
   ],
   "source": [
    "t = Turtle()\n",
    "t.speed(10)\n",
    "t.pencolor(\"pink\")\n",
    "for i in range(11+1):\n",
    "    t.right(30)\n",
    "    polygon(6, 80)\n",
    "# t.close()"
   ]
  },
  {
   "cell_type": "markdown",
   "id": "730f72d6",
   "metadata": {},
   "source": [
    "## 進階練習3:畫出以下圖形\n",
    "1. 此圖由4組不同大小的12個菱形組成\n",
    "2. 每畫一次旋轉30度\n",
    "3. 可嘗試不同顏色及長度看看效果<br>\n",
    "<img src=\"imgs/maple_leaf.png\" style= float:left width=200 length=200>"
   ]
  },
  {
   "cell_type": "code",
   "execution_count": 22,
   "id": "f747e379",
   "metadata": {},
   "outputs": [
    {
     "data": {
      "application/vnd.jupyter.widget-view+json": {
       "model_id": "",
       "version_major": 2,
       "version_minor": 0
      },
      "text/plain": [
       "Turtle()"
      ]
     },
     "metadata": {},
     "output_type": "display_data"
    }
   ],
   "source": [
    "def diamond(angle=[30, 150], lent=80):\n",
    "    for j in range(3+1):\n",
    "        t.forward(lent)\n",
    "        t.right(angle[j%2]) \n",
    "    \n",
    "t = Turtle()\n",
    "t.speed(10)\n",
    "t.pencolor(\"red\")\n",
    "t.right(100)\n",
    "for i in range(8+1):\n",
    "    t.right(30)\n",
    "    for j in range(3+1):\n",
    "        diamond(angle=[30, 150], lent=80-20*j)    \n",
    "t.right(100)\n",
    "t.circle(90, 90)\n",
    "# t.close()"
   ]
  },
  {
   "cell_type": "markdown",
   "id": "b6d0bd16",
   "metadata": {},
   "source": [
    "## Bonus:畫出以下圖形\n",
    "[資料來源](https://twitter.com/clcoding/status/1563370121552220161/photo/1)<br>\n",
    "<img src=\"imgs/img.png\" style= float:left width=200 length=200>"
   ]
  },
  {
   "cell_type": "code",
   "execution_count": 25,
   "id": "52c54e45",
   "metadata": {
    "scrolled": false
   },
   "outputs": [
    {
     "data": {
      "application/vnd.jupyter.widget-view+json": {
       "model_id": "",
       "version_major": 2,
       "version_minor": 0
      },
      "text/plain": [
       "Turtle()"
      ]
     },
     "metadata": {},
     "output_type": "display_data"
    }
   ],
   "source": [
    "t = Turtle()\n",
    "t.speed(10)\n",
    "col = [\"white\", \"pink\", \"cyan\"]\n",
    "for i in range(84+1):\n",
    "        t.pencolor(col[i%3])\n",
    "        t.forward(i*4)\n",
    "        t.right(121)\n",
    "# t.close()"
   ]
  }
 ],
 "metadata": {
  "kernelspec": {
   "display_name": "Python 3 (ipykernel)",
   "language": "python",
   "name": "python3"
  },
  "language_info": {
   "codemirror_mode": {
    "name": "ipython",
    "version": 3
   },
   "file_extension": ".py",
   "mimetype": "text/x-python",
   "name": "python",
   "nbconvert_exporter": "python",
   "pygments_lexer": "ipython3",
   "version": "3.9.12"
  }
 },
 "nbformat": 4,
 "nbformat_minor": 5
}
